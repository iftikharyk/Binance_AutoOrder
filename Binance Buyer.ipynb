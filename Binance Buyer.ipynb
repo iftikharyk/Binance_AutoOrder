{
 "cells": [
  {
   "cell_type": "markdown",
   "metadata": {},
   "source": [
    "# Buys the coin at given time.\n",
    "\n",
    "Enter coin name in ETHUSDT format <br>\n",
    "Enter time in 09:00 format."
   ]
  },
  {
   "cell_type": "code",
   "execution_count": 62,
   "metadata": {},
   "outputs": [
    {
     "name": "stdout",
     "output_type": "stream",
     "text": [
      "Now:  2021-03-16 12:00:01.242180 Pre:  2021-03-16 12:00:01.242134\n",
      "Placing Order: \n",
      "[{'price': '5000.00000000', 'qty': '0.00300000', 'commission': '0.00001167', 'commissionAsset': 'BNB', 'tradeId': 1164}]\n"
     ]
    }
   ],
   "source": [
    "from datetime import datetime\n",
    "from binance.client import Client\n",
    "\n",
    "api_key = \"ZV4QxddoSR6HkzQYrLIWOlp0BeJIapHrIuYnCt5Z2rsD98YLp8dhuO8Icb05pvew\"\n",
    "api_secret = \"hWFfWYzB1FzSPzjvUSNN0g1Mw3vsK66Lq6tQlePy7fad7w7OozWLkPQYLPxwTmUP\"\n",
    "client = Client(api_key, api_secret)\n",
    "\n",
    "\n",
    "Symbol = \"BIFIBUSD\"\n",
    "BuyAmount = 15\n",
    "Type = \"market\"\n",
    "Side = \"buy\"\n",
    "Param = {\"test\": True} # Only while testing.\n",
    "price = None # beacuse market order.\n",
    "\n",
    "SecondDisplacemnet = 1\n",
    "LaunchTimeStamp = {\"Hour\": 12, \"Minute\": 0}\n",
    "              \n",
    "Now = datetime.now()\n",
    "LaunchTime = Now.replace(hour = LaunchTimeStamp[\"Hour\"], \n",
    "                         minute = LaunchTimeStamp[\"Minute\"], \n",
    "                         second = SecondDisplacemnet) \n",
    "while True:\n",
    "    Now = datetime.now()\n",
    "    if Now > LaunchTime:\n",
    "        print(\"Now: \", Now, \"Pre: \", LaunchTime)\n",
    "        print(\"Placing Order: \")\n",
    "        order = client.create_order(symbol = Symbol, side = Side, type = Type, quoteOrderQty=BuyAmount)\n",
    "        print(order[\"fills\"])\n",
    "        break\n",
    "    "
   ]
  },
  {
   "cell_type": "code",
   "execution_count": 61,
   "metadata": {},
   "outputs": [
    {
     "data": {
      "text/plain": [
       "[{'price': '1786.66000000',\n",
       "  'qty': '0.00559000',\n",
       "  'commission': '0.00002904',\n",
       "  'commissionAsset': 'BNB',\n",
       "  'tradeId': 329934142}]"
      ]
     },
     "execution_count": 61,
     "metadata": {},
     "output_type": "execute_result"
    }
   ],
   "source": [
    "order[\"fills\"]"
   ]
  },
  {
   "cell_type": "code",
   "execution_count": null,
   "metadata": {},
   "outputs": [],
   "source": []
  }
 ],
 "metadata": {
  "kernelspec": {
   "display_name": "Python 3",
   "language": "python",
   "name": "python3"
  },
  "language_info": {
   "codemirror_mode": {
    "name": "ipython",
    "version": 3
   },
   "file_extension": ".py",
   "mimetype": "text/x-python",
   "name": "python",
   "nbconvert_exporter": "python",
   "pygments_lexer": "ipython3",
   "version": "3.7.6"
  }
 },
 "nbformat": 4,
 "nbformat_minor": 4
}
